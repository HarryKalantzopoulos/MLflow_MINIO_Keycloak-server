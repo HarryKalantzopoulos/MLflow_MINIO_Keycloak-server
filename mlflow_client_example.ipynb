{
 "cells": [
  {
   "cell_type": "markdown",
   "metadata": {},
   "source": [
    "# 1.Required packages"
   ]
  },
  {
   "cell_type": "code",
   "execution_count": null,
   "metadata": {},
   "outputs": [],
   "source": [
    "# Suggestion: Create new environment\n",
    "# Optional\n",
    "# python -m pip install --upgrade pip wheel setuptools\n",
    "# Required\n",
    "# python -m mlflow==2.14.3 boto3 psycopg2 cryptography\n",
    "# if psycopg2 cannot install it will suggest psycopg2-binary\n",
    "# python -m mlflow==2.14.3 requests python-keycloak==4.2.2 pyjwt"
   ]
  },
  {
   "cell_type": "code",
   "execution_count": 16,
   "metadata": {},
   "outputs": [],
   "source": [
    "import os\n",
    "import requests\n",
    "import mlflow\n",
    "import jwt\n",
    "from sklearn.model_selection import train_test_split\n",
    "from sklearn.datasets import load_diabetes\n",
    "from sklearn.ensemble import RandomForestRegressor\n"
   ]
  },
  {
   "cell_type": "markdown",
   "metadata": {},
   "source": [
    "# 2. Set credentials"
   ]
  },
  {
   "cell_type": "code",
   "execution_count": 17,
   "metadata": {},
   "outputs": [],
   "source": [
    "# Set credentials in empty strings\n",
    "data = {\n",
    "     \"username\": \"user1\",\n",
    "     \"password\": \"password1\"\n",
    "}\n",
    "\n",
    "# Set a name for your experiment\n",
    "experiment_name = \"diabetes_demo\"\n"
   ]
  },
  {
   "cell_type": "markdown",
   "metadata": {},
   "source": [
    "# 3. Request token"
   ]
  },
  {
   "cell_type": "code",
   "execution_count": null,
   "metadata": {},
   "outputs": [],
   "source": [
    "resp = requests.post( \n",
    "    'http://localhost:5000/',\n",
    "    json= data,\n",
    "    headers= {\"Content-Type\": \"application/json\"}, \n",
    "    timeout= 10\n",
    ")\n",
    "\n",
    "print( resp.status_code)\n",
    "# It should return 200."
   ]
  },
  {
   "cell_type": "code",
   "execution_count": 24,
   "metadata": {},
   "outputs": [],
   "source": [
    "try:\n",
    "    pass_token = jwt.decode(resp.json()['token'], \"U2hvdWxkU2V0UGFzc3dvcmQ0\", algorithms=[\"HS256\"])\n",
    "except jwt.ImmatureSignatureError:\n",
    "    from time import sleep\n",
    "    sleep(5)\n",
    "    pass_token = jwt.decode(resp.json()['token'], \"U2hvdWxkU2V0UGFzc3dvcmQ0\", algorithms=[\"HS256\"])\n"
   ]
  },
  {
   "cell_type": "markdown",
   "metadata": {},
   "source": [
    "# 4. Setting env variables"
   ]
  },
  {
   "cell_type": "code",
   "execution_count": 25,
   "metadata": {},
   "outputs": [],
   "source": [
    "# Don't change anything\n",
    "\n",
    "if 'MLFLOW_TRACKING_USERNAME' in os.environ:\n",
    "    del os.environ['MLFLOW_TRACKING_USERNAME']\n",
    "if 'MLFLOW_TRACKING_PASSWORD' in os.environ:\n",
    "    del os.environ['MLFLOW_TRACKING_PASSWORD']\n",
    "os.environ['MLFLOW_TRACKING_TOKEN'] = pass_token['access_token']\n",
    "os.environ[\"AWS_ACCESS_KEY_ID\"]= pass_token['access_key_id']\n",
    "os.environ[\"AWS_SECRET_ACCESS_KEY\"]= pass_token['secret_access_key']\n",
    "os.environ[\"AWS_SESSION_TOKEN\"]= pass_token['session_token']\n",
    "os.environ['MLFLOW_TRACKING_URI'] = 'http://localhost:5000'\n",
    "os.environ['MLFLOW_S3_ENDPOINT_URL'] = 'http://localhost:9000'"
   ]
  },
  {
   "cell_type": "code",
   "execution_count": null,
   "metadata": {},
   "outputs": [],
   "source": [
    "mlflow.set_experiment(experiment_name= experiment_name)\n",
    "\n",
    "mlflow.autolog()\n",
    "with mlflow.start_run() as run:\n",
    "\n",
    "    db = load_diabetes()\n",
    "\n",
    "    X_train, X_test, y_train, y_test = train_test_split(db.data, db.target)\n",
    "\n",
    "    # Create and train models.\n",
    "    rf = RandomForestRegressor(n_estimators=100, max_depth=6, max_features=3)\n",
    "    rf.fit(X_train, y_train)\n",
    "\n",
    "    # Use the model to make predictions on the test dataset.\n",
    "    predictions = rf.predict(X_test)\n"
   ]
  }
 ],
 "metadata": {
  "kernelspec": {
   "display_name": "py3.10",
   "language": "python",
   "name": "python3"
  },
  "language_info": {
   "codemirror_mode": {
    "name": "ipython",
    "version": 3
   },
   "file_extension": ".py",
   "mimetype": "text/x-python",
   "name": "python",
   "nbconvert_exporter": "python",
   "pygments_lexer": "ipython3",
   "version": "3.10.14"
  }
 },
 "nbformat": 4,
 "nbformat_minor": 2
}
